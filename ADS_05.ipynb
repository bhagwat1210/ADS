{
 "cells": [
  {
   "cell_type": "markdown",
   "metadata": {},
   "source": [
    "# Problem 1 (5% credit).\n",
    "Which of the techniques among logistic regression and k-means clustering are unsupervised learning (select all that applied): a) both; b) k-means clustering, but not the logistic regression; c) logistic regression, but not the k-mean clustering; d) none of them - both are supervised.\n"
   ]
  },
  {
   "cell_type": "markdown",
   "metadata": {},
   "source": [
    "Solution : B. The K-means clustering is unsupervised since we do not have any training data set for it."
   ]
  },
  {
   "cell_type": "markdown",
   "metadata": {},
   "source": [
    "# Problem 2 (5% credit).\n",
    "What is the average silhouette measure used for in the k-means clustering (select all that applies): a) determining the percentage of correct cluster definitions over the validation set; b) select the most natural number of clusters for the dataset; c) determining average size of the clusters; d) estimating how more similar on average the elements are to their own clusters vs the most similar neighbor clusters; e) quantifying how distinctive the clusters are."
   ]
  },
  {
   "cell_type": "markdown",
   "metadata": {},
   "source": [
    "Solution . D. for each data point xi, it quantifies relative attachement strength to its current cluster vs the closest neighbor cluster"
   ]
  },
  {
   "cell_type": "markdown",
   "metadata": {},
   "source": [
    "# Problem 3 (10% credit).\n",
    "What of the below (select all that apply) is true for the binary classification confusion matrix report: a) it reports sizes of each cluster and number of the clusters; b) it is a square matrix; c) it is symmetrical; d) it has dimensions 2x2; e) it has dimensions 3x3; f) it reports the quality of classification fit over the test set; g) it reports the percentage of correctly classified datapoints over the test set; h) it reports the percentage of incorrectly classified datapoints over the test set;"
   ]
  },
  {
   "cell_type": "markdown",
   "metadata": {},
   "source": [
    "Solutions:  f,g,h. "
   ]
  },
  {
   "cell_type": "code",
   "execution_count": 1,
   "metadata": {
    "collapsed": false
   },
   "outputs": [
    {
     "name": "stdout",
     "output_type": "stream",
     "text": [
      "Populating the interactive namespace from numpy and matplotlib\n"
     ]
    }
   ],
   "source": [
    "import numpy as np\n",
    "import pandas as pd\n",
    "import datetime\n",
    "import matplotlib.pyplot as plt\n",
    "import scipy\n",
    "from scipy import stats\n",
    "%pylab inline\n",
    "from matplotlib import pyplot as plt\n",
    "from mpl_toolkits.mplot3d import Axes3D\n",
    "from mpl_toolkits.mplot3d import proj3d\n",
    "import statsmodels.formula.api as smf\n",
    "from sklearn.cluster import KMeans\n",
    "from sklearn.metrics import silhouette_score"
   ]
  },
  {
   "cell_type": "code",
   "execution_count": 2,
   "metadata": {
    "collapsed": true
   },
   "outputs": [],
   "source": [
    "yt=[1, 1, 0, 0, 1, 0, 1, 0, 1, 1]\n",
    "yc=[1, 0, 1, 0, 1, 0, 1, 0, 1, 0]"
   ]
  },
  {
   "cell_type": "markdown",
   "metadata": {},
   "source": [
    "# Problem 4 (15% credit)\n",
    "For the above binary classification (yc - classified values, yt - true ones) compute and visualize the confusion matrix as well as precision, recall and accuracy"
   ]
  },
  {
   "cell_type": "code",
   "execution_count": 3,
   "metadata": {
    "collapsed": false
   },
   "outputs": [
    {
     "name": "stdout",
     "output_type": "stream",
     "text": [
      "The solution is  Precision=66.6666666667, Accuracy=70.0, Recall=80.0\n"
     ]
    }
   ],
   "source": [
    "TP=0\n",
    "FP=0\n",
    "FN=0\n",
    "TN=0\n",
    "for i in range(len(yt)):\n",
    "    if ((yt[i]==1)&(yc[i]==1)):\n",
    "        TP+=1\n",
    "    if ((yt[i]==1)&(yc[i]==0)):\n",
    "        FP+=1\n",
    "    if ((yt[i]==0)&(yc[i]==1)):\n",
    "        FN+=1\n",
    "    if ((yt[i]==0)&(yc[i]==0)):\n",
    "        TN+=1    \n",
    "#compute precision, accuracy and recall\n",
    "ACC=100.0*(TP+TN)/(TP+TN+FP+FN)\n",
    "Recall=100.0*TP/(TP+FN)\n",
    "Prec=100.0*TP/(TP+FP)\n",
    "print('The solution is  Precision={0}, Accuracy={1}, Recall={2}'.format(Prec,ACC,Recall))"
   ]
  },
  {
   "cell_type": "markdown",
   "metadata": {},
   "source": [
    "\n",
    "# Problem 5a (15% credit).\n",
    "For the data above define the clustering into 3 clusters using the best outcome of k-means, being run 100 times"
   ]
  },
  {
   "cell_type": "code",
   "execution_count": 4,
   "metadata": {
    "collapsed": true
   },
   "outputs": [],
   "source": [
    "data = pd.read_csv( 'https://serv.cusp.nyu.edu/files/ADS-2015/MorningSection/lab5/H51.csv' , index_col=0 )"
   ]
  },
  {
   "cell_type": "code",
   "execution_count": 5,
   "metadata": {
    "collapsed": false
   },
   "outputs": [
    {
     "data": {
      "text/plain": [
       "Index([u'x1', u'x2'], dtype='object')"
      ]
     },
     "execution_count": 5,
     "metadata": {},
     "output_type": "execute_result"
    }
   ],
   "source": [
    "data.columns"
   ]
  },
  {
   "cell_type": "code",
   "execution_count": 6,
   "metadata": {
    "collapsed": false
   },
   "outputs": [],
   "source": [
    "xc=data.x1\n",
    "yc=data.x2"
   ]
  },
  {
   "cell_type": "code",
   "execution_count": 7,
   "metadata": {
    "collapsed": true
   },
   "outputs": [],
   "source": [
    "random.seed(2015)\n",
    "label0=stats.binom.rvs(p = 0.5, n=3, size = 100)\n",
    "x=xc[np.array(label0)]+stats.norm.rvs(0, 1, size = 100)\n",
    "y=yc[np.array(label0)]+stats.norm.rvs(0, 1, size = 100)\n",
    "X=np.append(x,y).reshape(2,100).transpose()"
   ]
  },
  {
   "cell_type": "code",
   "execution_count": 8,
   "metadata": {
    "collapsed": false
   },
   "outputs": [],
   "source": [
    "est=KMeans(n_clusters=3,n_init=100)   ## init is iteration here , intializing the model \n",
    "est.fit(X) \n",
    "labels=est.labels_"
   ]
  },
  {
   "cell_type": "code",
   "execution_count": 9,
   "metadata": {
    "collapsed": false
   },
   "outputs": [
    {
     "data": {
      "text/plain": [
       "<matplotlib.collections.PathCollection at 0x10c372cd0>"
      ]
     },
     "execution_count": 9,
     "metadata": {},
     "output_type": "execute_result"
    },
    {
     "data": {
      "image/png": "[encoded data removed]",
      "text/plain": [
       "<matplotlib.figure.Figure at 0x10a03a9d0>"
      ]
     },
     "metadata": {},
     "output_type": "display_data"
    }
   ],
   "source": [
    "plt.figure(figsize=(6,4))\n",
    "plt.scatter (x,y,s=30,c=labels.astype(np.float),lw=0)"
   ]
  },
  {
   "cell_type": "markdown",
   "metadata": {},
   "source": [
    "# Problem 5b (20% credit).\n",
    "For the data above perfrom k-means clustering for k=2..10, compute and visualize the average Silhouette score, select and visualize the clustering for that k, which maximizes average Silhouette score"
   ]
  },
  {
   "cell_type": "code",
   "execution_count": 10,
   "metadata": {
    "collapsed": false
   },
   "outputs": [
    {
     "name": "stdout",
     "output_type": "stream",
     "text": [
      "2 clusters: 0.341696302482\n",
      "3 clusters: 0.386687255873\n",
      "4 clusters: 0.376911585732\n",
      "5 clusters: 0.361088850157\n",
      "6 clusters: 0.340809871891\n",
      "7 clusters: 0.332832989063\n",
      "8 clusters: 0.350384794807\n",
      "9 clusters: 0.357659578815\n",
      "10 clusters: 0.354695557937\n",
      "11 clusters: 0.352145501465\n",
      " The solution is : Best for 3 clusters: 0.386687255873\n"
     ]
    },
    {
     "name": "stderr",
     "output_type": "stream",
     "text": [
      "/Users/bhagwatsinghbisht/anaconda/lib/python2.7/site-packages/numpy/core/_methods.py:59: RuntimeWarning: Mean of empty slice.\n",
      "  warnings.warn(\"Mean of empty slice.\", RuntimeWarning)\n"
     ]
    },
    {
     "data": {
      "text/plain": [
       "<matplotlib.collections.PathCollection at 0x10c44f450>"
      ]
     },
     "execution_count": 10,
     "metadata": {},
     "output_type": "execute_result"
    },
    {
     "data": {
      "image/png": "[encoded data removed]",
      "text/plain": [
       "<matplotlib.figure.Figure at 0x10c4363d0>"
      ]
     },
     "metadata": {},
     "output_type": "display_data"
    },
    {
     "data": {
      "image/png": "[encoded data removed]",
      "text/plain": [
       "<matplotlib.figure.Figure at 0x10aa59450>"
      ]
     },
     "metadata": {},
     "output_type": "display_data"
    }
   ],
   "source": [
    "s=[0]*10\n",
    "for k in range(0,10):\n",
    "    est=KMeans(n_clusters=k+2,n_init=25)\n",
    "    est.fit(X)\n",
    "    s[k]=silhouette_score(X, est.labels_)\n",
    "    print('{0} clusters: {1}'.format(k+2,s[k]))\n",
    "k=np.argmax(s)    \n",
    "est=KMeans(n_clusters=k+2,n_init=100)\n",
    "est.fit(X)\n",
    "labels=est.labels_\n",
    "plt.figure()\n",
    "plt.bar(range(2,12),s)\n",
    "plt.xlabel('k')\n",
    "plt.ylabel('S')\n",
    "plt.title('Avg Silhouette vs k')\n",
    "print(' The solution is : Best for {0} clusters: {1}'.format(k+2,silhouette_score(X, labels)))\n",
    "plt.figure()\n",
    "plt.scatter (x,y,s=30,c=labels.astype(np.float),lw=0)"
   ]
  },
  {
   "cell_type": "markdown",
   "metadata": {},
   "source": [
    "# Problem 6a (15% credit)\n",
    "For the second dataset above train the logistic regression over the provided training set, report the summary with coeffieints, fit and statistics.\n"
   ]
  },
  {
   "cell_type": "code",
   "execution_count": 17,
   "metadata": {
    "collapsed": false
   },
   "outputs": [],
   "source": [
    "data2training = pd.read_csv( 'https://serv.cusp.nyu.edu/files/ADS-2015/MorningSection/lab5/H52train.csv' , index_col=0 )\n",
    "data2test = pd.read_csv( 'https://serv.cusp.nyu.edu/files/ADS-2015/MorningSection/lab5/H52test.csv' , index_col=0 )"
   ]
  },
  {
   "cell_type": "code",
   "execution_count": 18,
   "metadata": {
    "collapsed": false
   },
   "outputs": [
    {
     "name": "stdout",
     "output_type": "stream",
     "text": [
      "Optimization terminated successfully.\n",
      "         Current function value: 0.200402\n",
      "         Iterations 8\n",
      "                           Logit Regression Results                           \n",
      "==============================================================================\n",
      "Dep. Variable:                      y   No. Observations:                  100\n",
      "Model:                          Logit   Df Residuals:                       97\n",
      "Method:                           MLE   Df Model:                            2\n",
      "Date:                Tue, 20 Oct 2015   Pseudo R-squ.:                  0.6982\n",
      "Time:                        23:00:32   Log-Likelihood:                -20.040\n",
      "converged:                       True   LL-Null:                       -66.406\n",
      "                                        LLR p-value:                 7.301e-21\n",
      "==============================================================================\n",
      "                 coef    std err          z      P>|z|      [95.0% Conf. Int.]\n",
      "------------------------------------------------------------------------------\n",
      "Intercept     -0.5540      0.924     -0.600      0.549        -2.364     1.256\n",
      "x1             0.7219      0.186      3.871      0.000         0.356     1.087\n",
      "x2            -0.6982      0.203     -3.441      0.001        -1.096    -0.300\n",
      "==============================================================================\n"
     ]
    }
   ],
   "source": [
    "random.seed(2015)\n",
    "logit = smf.logit('y ~ x1 + x2', data = data2training).fit()  ### training the model on the training data set \n",
    "print(logit.summary())"
   ]
  },
  {
   "cell_type": "code",
   "execution_count": 19,
   "metadata": {
    "collapsed": false
   },
   "outputs": [],
   "source": [
    "pre = logit.predict(data2test)>0.5"
   ]
  },
  {
   "cell_type": "markdown",
   "metadata": {},
   "source": [
    "\n",
    "# Problem 6b (15% credit).\n",
    "For the second dataset and logistic regression above define the true and false positives/negatives over the validation set and visualize the classification through logit vs the true one."
   ]
  },
  {
   "cell_type": "code",
   "execution_count": 20,
   "metadata": {
    "collapsed": false
   },
   "outputs": [
    {
     "name": "stdout",
     "output_type": "stream",
     "text": [
      "The solution is : Precision=97.7777777778, Accuracy=91.0, Recall=84.6153846154\n"
     ]
    }
   ],
   "source": [
    "\n",
    "#compute TP,FP,FN,TN for the above classification\n",
    "TP=sum((pre==1)&(data2test.y==1))\n",
    "FP=sum((pre==1)&(data2test.y==0))\n",
    "FN=sum((pre==0)&(data2test.y==1))\n",
    "TN=sum((pre==0)&(data2test.y==0))\n",
    "\n",
    "#compute precision, accuracy and recall\n",
    "ACC=100.0*(TP+TN)/(TP+TN+FP+FN)\n",
    "Recall=100.0*TP/(TP+FN)\n",
    "Prec=100.0*TP/(TP+FP)\n",
    "print('The solution is : Precision={0}, Accuracy={1}, Recall={2}'.format(Prec,ACC,Recall))"
   ]
  },
  {
   "cell_type": "code",
   "execution_count": null,
   "metadata": {
    "collapsed": true
   },
   "outputs": [],
   "source": []
  }
 ],
 "metadata": {
  "kernelspec": {
   "display_name": "Python 2",
   "language": "python",
   "name": "python2"
  },
  "language_info": {
   "codemirror_mode": {
    "name": "ipython",
    "version": 2
   },
   "file_extension": ".py",
   "mimetype": "text/x-python",
   "name": "python",
   "nbconvert_exporter": "python",
   "pygments_lexer": "ipython2",
   "version": "2.7.10"
  }
 },
 "nbformat": 4,
 "nbformat_minor": 0
}
