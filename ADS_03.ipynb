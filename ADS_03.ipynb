{
 "cells": [
  {
   "cell_type": "markdown",
   "metadata": {},
   "source": [
    "\n",
    "Problem 1 (5% credit).\n",
    "Consider a multivariate regression of the output variable y over the 3 regressors regressors x_1, x_2, x_3, with the observations from the file stored under the following link: https://serv.cusp.nyu.edu/files/ADS-2015/MorningSection/homework3/H31.csv (also see below) Which one of the regressors is a dummy variable corresponding to an intercept term?"
   ]
  },
  {
   "cell_type": "code",
   "execution_count": 1,
   "metadata": {
    "collapsed": false
   },
   "outputs": [
    {
     "name": "stdout",
     "output_type": "stream",
     "text": [
      "Populating the interactive namespace from numpy and matplotlib\n"
     ]
    },
    {
     "data": {
      "text/html": [
       "<div>\n",
       "<table border=\"1\" class=\"dataframe\">\n",
       "  <thead>\n",
       "    <tr style=\"text-align: right;\">\n",
       "      <th></th>\n",
       "      <th>y</th>\n",
       "      <th>x1</th>\n",
       "      <th>x2</th>\n",
       "      <th>x3</th>\n",
       "    </tr>\n",
       "  </thead>\n",
       "  <tbody>\n",
       "    <tr>\n",
       "      <th>1</th>\n",
       "      <td>0</td>\n",
       "      <td>1</td>\n",
       "      <td>-2</td>\n",
       "      <td>1</td>\n",
       "    </tr>\n",
       "    <tr>\n",
       "      <th>2</th>\n",
       "      <td>2</td>\n",
       "      <td>1</td>\n",
       "      <td>-1</td>\n",
       "      <td>-1</td>\n",
       "    </tr>\n",
       "    <tr>\n",
       "      <th>3</th>\n",
       "      <td>2</td>\n",
       "      <td>1</td>\n",
       "      <td>0</td>\n",
       "      <td>0</td>\n",
       "    </tr>\n",
       "    <tr>\n",
       "      <th>4</th>\n",
       "      <td>3</td>\n",
       "      <td>1</td>\n",
       "      <td>1</td>\n",
       "      <td>-1</td>\n",
       "    </tr>\n",
       "    <tr>\n",
       "      <th>5</th>\n",
       "      <td>3</td>\n",
       "      <td>1</td>\n",
       "      <td>2</td>\n",
       "      <td>1</td>\n",
       "    </tr>\n",
       "  </tbody>\n",
       "</table>\n",
       "</div>"
      ],
      "text/plain": [
       "   y  x1  x2  x3\n",
       "1  0   1  -2   1\n",
       "2  2   1  -1  -1\n",
       "3  2   1   0   0\n",
       "4  3   1   1  -1\n",
       "5  3   1   2   1"
      ]
     },
     "execution_count": 1,
     "metadata": {},
     "output_type": "execute_result"
    }
   ],
   "source": [
    "import numpy as np\n",
    "from numpy import random\n",
    "from scipy import stats\n",
    "import matplotlib.pyplot as plt\n",
    "%pylab inline\n",
    "import pandas as pd\n",
    "import statsmodels.formula.api as smf\n",
    "import urllib\n",
    "#url = \"/Users/bhagwatsinghbisht/Downloads/L3.csv\"\n",
    "url = \"/Users/bhagwatsinghbisht/Downloads/H31.csv\"\n",
    "f=urllib.urlopen(url)\n",
    "data= pd.read_csv(f,index_col=0)\n",
    "data.head()"
   ]
  },
  {
   "cell_type": "code",
   "execution_count": 120,
   "metadata": {
    "collapsed": false
   },
   "outputs": [],
   "source": [
    "X=np.matrix(pd.DataFrame({'intercept':[1]*len(data.x1),'x1':data.x1,'x2':data.x2,'x3':data.x3}))\n",
    "Y=np.matrix(data.y).transpose()\n",
    "#w=pow((X.transpose()*X),-1)*X.transpose()*Y\n",
    "#print(w)\n",
    "\n"
   ]
  },
  {
   "cell_type": "markdown",
   "metadata": {},
   "source": []
  },
  {
   "cell_type": "code",
   "execution_count": 2,
   "metadata": {
    "collapsed": false
   },
   "outputs": [
    {
     "name": "stderr",
     "output_type": "stream",
     "text": [
      "/Users/bhagwatsinghbisht/anaconda/lib/python2.7/site-packages/statsmodels/stats/stattools.py:72: UserWarning: omni_normtest is not valid with less than 8 observations; 5 samples were given.\n",
      "  \"samples were given.\" % int(n))\n"
     ]
    },
    {
     "data": {
      "text/html": [
       "<table class=\"simpletable\">\n",
       "<caption>OLS Regression Results</caption>\n",
       "<tr>\n",
       "  <th>Dep. Variable:</th>            <td>y</td>        <th>  R-squared:         </th> <td>   0.983</td>\n",
       "</tr>\n",
       "<tr>\n",
       "  <th>Model:</th>                   <td>OLS</td>       <th>  Adj. R-squared:    </th> <td>   0.967</td>\n",
       "</tr>\n",
       "<tr>\n",
       "  <th>Method:</th>             <td>Least Squares</td>  <th>  F-statistic:       </th> <td>   59.00</td>\n",
       "</tr>\n",
       "<tr>\n",
       "  <th>Date:</th>             <td>Sun, 04 Oct 2015</td> <th>  Prob (F-statistic):</th>  <td>0.0167</td> \n",
       "</tr>\n",
       "<tr>\n",
       "  <th>Time:</th>                 <td>19:43:03</td>     <th>  Log-Likelihood:    </th> <td>  2.6854</td>\n",
       "</tr>\n",
       "<tr>\n",
       "  <th>No. Observations:</th>      <td>     5</td>      <th>  AIC:               </th> <td>  0.6293</td>\n",
       "</tr>\n",
       "<tr>\n",
       "  <th>Df Residuals:</th>          <td>     2</td>      <th>  BIC:               </th> <td> -0.5424</td>\n",
       "</tr>\n",
       "<tr>\n",
       "  <th>Df Model:</th>              <td>     2</td>      <th>                     </th>     <td> </td>   \n",
       "</tr>\n",
       "<tr>\n",
       "  <th>Covariance Type:</th>      <td>nonrobust</td>    <th>                     </th>     <td> </td>   \n",
       "</tr>\n",
       "</table>\n",
       "<table class=\"simpletable\">\n",
       "<tr>\n",
       "      <td></td>         <th>coef</th>     <th>std err</th>      <th>t</th>      <th>P>|t|</th> <th>[95.0% Conf. Int.]</th> \n",
       "</tr>\n",
       "<tr>\n",
       "  <th>Intercept</th> <td>    1.0000</td> <td>    0.050</td> <td>   20.000</td> <td> 0.002</td> <td>    0.785     1.215</td>\n",
       "</tr>\n",
       "<tr>\n",
       "  <th>x1</th>        <td>    1.0000</td> <td>    0.050</td> <td>   20.000</td> <td> 0.002</td> <td>    0.785     1.215</td>\n",
       "</tr>\n",
       "<tr>\n",
       "  <th>x2</th>        <td>    0.7000</td> <td>    0.071</td> <td>    9.899</td> <td> 0.010</td> <td>    0.396     1.004</td>\n",
       "</tr>\n",
       "<tr>\n",
       "  <th>x3</th>        <td>   -0.5000</td> <td>    0.112</td> <td>   -4.472</td> <td> 0.047</td> <td>   -0.981    -0.019</td>\n",
       "</tr>\n",
       "</table>\n",
       "<table class=\"simpletable\">\n",
       "<tr>\n",
       "  <th>Omnibus:</th>       <td>   nan</td> <th>  Durbin-Watson:     </th> <td>   2.600</td>\n",
       "</tr>\n",
       "<tr>\n",
       "  <th>Prob(Omnibus):</th> <td>   nan</td> <th>  Jarque-Bera (JB):  </th> <td>   0.352</td>\n",
       "</tr>\n",
       "<tr>\n",
       "  <th>Skew:</th>          <td>-0.000</td> <th>  Prob(JB):          </th> <td>   0.839</td>\n",
       "</tr>\n",
       "<tr>\n",
       "  <th>Kurtosis:</th>      <td> 1.700</td> <th>  Cond. No.          </th> <td>4.65e+16</td>\n",
       "</tr>\n",
       "</table>"
      ],
      "text/plain": [
       "<class 'statsmodels.iolib.summary.Summary'>\n",
       "\"\"\"\n",
       "                            OLS Regression Results                            \n",
       "==============================================================================\n",
       "Dep. Variable:                      y   R-squared:                       0.983\n",
       "Model:                            OLS   Adj. R-squared:                  0.967\n",
       "Method:                 Least Squares   F-statistic:                     59.00\n",
       "Date:                Sun, 04 Oct 2015   Prob (F-statistic):             0.0167\n",
       "Time:                        19:43:03   Log-Likelihood:                 2.6854\n",
       "No. Observations:                   5   AIC:                            0.6293\n",
       "Df Residuals:                       2   BIC:                           -0.5424\n",
       "Df Model:                           2                                         \n",
       "Covariance Type:            nonrobust                                         \n",
       "==============================================================================\n",
       "                 coef    std err          t      P>|t|      [95.0% Conf. Int.]\n",
       "------------------------------------------------------------------------------\n",
       "Intercept      1.0000      0.050     20.000      0.002         0.785     1.215\n",
       "x1             1.0000      0.050     20.000      0.002         0.785     1.215\n",
       "x2             0.7000      0.071      9.899      0.010         0.396     1.004\n",
       "x3            -0.5000      0.112     -4.472      0.047        -0.981    -0.019\n",
       "==============================================================================\n",
       "Omnibus:                          nan   Durbin-Watson:                   2.600\n",
       "Prob(Omnibus):                    nan   Jarque-Bera (JB):                0.352\n",
       "Skew:                          -0.000   Prob(JB):                        0.839\n",
       "Kurtosis:                       1.700   Cond. No.                     4.65e+16\n",
       "==============================================================================\n",
       "\n",
       "Warnings:\n",
       "[1] Standard Errors assume that the covariance matrix of the errors is correctly specified.\n",
       "[2] The smallest eigenvalue is 4.62e-33. This might indicate that there are\n",
       "strong multicollinearity problems or that the design matrix is singular.\n",
       "\"\"\""
      ]
     },
     "execution_count": 2,
     "metadata": {},
     "output_type": "execute_result"
    }
   ],
   "source": [
    "lm = smf.ols(formula='y ~ x1+x2+x3', data = data).fit()\n",
    "lm.summary()"
   ]
  },
  {
   "cell_type": "code",
   "execution_count": 16,
   "metadata": {
    "collapsed": false
   },
   "outputs": [
    {
     "data": {
      "text/html": [
       "<table class=\"simpletable\">\n",
       "<caption>OLS Regression Results</caption>\n",
       "<tr>\n",
       "  <th>Dep. Variable:</th>            <td>y</td>        <th>  R-squared:         </th> <td>   0.983</td>\n",
       "</tr>\n",
       "<tr>\n",
       "  <th>Model:</th>                   <td>OLS</td>       <th>  Adj. R-squared:    </th> <td>   0.967</td>\n",
       "</tr>\n",
       "<tr>\n",
       "  <th>Method:</th>             <td>Least Squares</td>  <th>  F-statistic:       </th> <td>   59.00</td>\n",
       "</tr>\n",
       "<tr>\n",
       "  <th>Date:</th>             <td>Sun, 04 Oct 2015</td> <th>  Prob (F-statistic):</th>  <td>0.0167</td> \n",
       "</tr>\n",
       "<tr>\n",
       "  <th>Time:</th>                 <td>20:01:48</td>     <th>  Log-Likelihood:    </th> <td>  2.6854</td>\n",
       "</tr>\n",
       "<tr>\n",
       "  <th>No. Observations:</th>      <td>     5</td>      <th>  AIC:               </th> <td>  0.6293</td>\n",
       "</tr>\n",
       "<tr>\n",
       "  <th>Df Residuals:</th>          <td>     2</td>      <th>  BIC:               </th> <td> -0.5424</td>\n",
       "</tr>\n",
       "<tr>\n",
       "  <th>Df Model:</th>              <td>     2</td>      <th>                     </th>     <td> </td>   \n",
       "</tr>\n",
       "<tr>\n",
       "  <th>Covariance Type:</th>      <td>nonrobust</td>    <th>                     </th>     <td> </td>   \n",
       "</tr>\n",
       "</table>\n",
       "<table class=\"simpletable\">\n",
       "<tr>\n",
       "      <td></td>         <th>coef</th>     <th>std err</th>      <th>t</th>      <th>P>|t|</th> <th>[95.0% Conf. Int.]</th> \n",
       "</tr>\n",
       "<tr>\n",
       "  <th>Intercept</th> <td>    2.0000</td> <td>    0.100</td> <td>   20.000</td> <td> 0.002</td> <td>    1.570     2.430</td>\n",
       "</tr>\n",
       "<tr>\n",
       "  <th>x2</th>        <td>    0.7000</td> <td>    0.071</td> <td>    9.899</td> <td> 0.010</td> <td>    0.396     1.004</td>\n",
       "</tr>\n",
       "<tr>\n",
       "  <th>x3</th>        <td>   -0.5000</td> <td>    0.112</td> <td>   -4.472</td> <td> 0.047</td> <td>   -0.981    -0.019</td>\n",
       "</tr>\n",
       "</table>\n",
       "<table class=\"simpletable\">\n",
       "<tr>\n",
       "  <th>Omnibus:</th>       <td>   nan</td> <th>  Durbin-Watson:     </th> <td>   2.600</td>\n",
       "</tr>\n",
       "<tr>\n",
       "  <th>Prob(Omnibus):</th> <td>   nan</td> <th>  Jarque-Bera (JB):  </th> <td>   0.352</td>\n",
       "</tr>\n",
       "<tr>\n",
       "  <th>Skew:</th>          <td>-0.000</td> <th>  Prob(JB):          </th> <td>   0.839</td>\n",
       "</tr>\n",
       "<tr>\n",
       "  <th>Kurtosis:</th>      <td> 1.700</td> <th>  Cond. No.          </th> <td>    1.58</td>\n",
       "</tr>\n",
       "</table>"
      ],
      "text/plain": [
       "<class 'statsmodels.iolib.summary.Summary'>\n",
       "\"\"\"\n",
       "                            OLS Regression Results                            \n",
       "==============================================================================\n",
       "Dep. Variable:                      y   R-squared:                       0.983\n",
       "Model:                            OLS   Adj. R-squared:                  0.967\n",
       "Method:                 Least Squares   F-statistic:                     59.00\n",
       "Date:                Sun, 04 Oct 2015   Prob (F-statistic):             0.0167\n",
       "Time:                        20:01:48   Log-Likelihood:                 2.6854\n",
       "No. Observations:                   5   AIC:                            0.6293\n",
       "Df Residuals:                       2   BIC:                           -0.5424\n",
       "Df Model:                           2                                         \n",
       "Covariance Type:            nonrobust                                         \n",
       "==============================================================================\n",
       "                 coef    std err          t      P>|t|      [95.0% Conf. Int.]\n",
       "------------------------------------------------------------------------------\n",
       "Intercept      2.0000      0.100     20.000      0.002         1.570     2.430\n",
       "x2             0.7000      0.071      9.899      0.010         0.396     1.004\n",
       "x3            -0.5000      0.112     -4.472      0.047        -0.981    -0.019\n",
       "==============================================================================\n",
       "Omnibus:                          nan   Durbin-Watson:                   2.600\n",
       "Prob(Omnibus):                    nan   Jarque-Bera (JB):                0.352\n",
       "Skew:                          -0.000   Prob(JB):                        0.839\n",
       "Kurtosis:                       1.700   Cond. No.                         1.58\n",
       "==============================================================================\n",
       "\n",
       "Warnings:\n",
       "[1] Standard Errors assume that the covariance matrix of the errors is correctly specified.\n",
       "\"\"\""
      ]
     },
     "execution_count": 16,
     "metadata": {},
     "output_type": "execute_result"
    }
   ],
   "source": [
    "lm = smf.ols(formula='y ~ x2+x3', data = data).fit()\n",
    "lm.summary()"
   ]
  },
  {
   "cell_type": "markdown",
   "metadata": {},
   "source": [
    "# As is evident from above analysis , of the given regressors X1 is a dummy variable inspite of having a low p value as removing it is not at all changing the R square value . "
   ]
  },
  {
   "cell_type": "markdown",
   "metadata": {},
   "source": [
    "Problem 2 (15% credit).\n",
    "For the data from the problem 1 perform a manual estimate for the least-square multivariate regression coefficients (not using regression tools, but using appropriate matrix operations and formula (3) from the session notebook)."
   ]
  },
  {
   "cell_type": "markdown",
   "metadata": {},
   "source": [
    "# having written about this to Varun , for the sake of submission , I am taking H32.csv for this analysis , since i was getting the singular matrix error."
   ]
  },
  {
   "cell_type": "code",
   "execution_count": 18,
   "metadata": {
    "collapsed": false
   },
   "outputs": [
    {
     "data": {
      "text/html": [
       "<div>\n",
       "<table border=\"1\" class=\"dataframe\">\n",
       "  <thead>\n",
       "    <tr style=\"text-align: right;\">\n",
       "      <th></th>\n",
       "      <th>y</th>\n",
       "      <th>x1</th>\n",
       "      <th>x2</th>\n",
       "      <th>x3</th>\n",
       "      <th>x4</th>\n",
       "      <th>x5</th>\n",
       "    </tr>\n",
       "  </thead>\n",
       "  <tbody>\n",
       "    <tr>\n",
       "      <th>1</th>\n",
       "      <td>-0.051423</td>\n",
       "      <td>21.456917</td>\n",
       "      <td>-7.042114</td>\n",
       "      <td>1.073317</td>\n",
       "      <td>3.901826</td>\n",
       "      <td>0.584972</td>\n",
       "    </tr>\n",
       "    <tr>\n",
       "      <th>2</th>\n",
       "      <td>40.420287</td>\n",
       "      <td>90.051574</td>\n",
       "      <td>1.753339</td>\n",
       "      <td>15.469912</td>\n",
       "      <td>-2.395206</td>\n",
       "      <td>0.781003</td>\n",
       "    </tr>\n",
       "    <tr>\n",
       "      <th>3</th>\n",
       "      <td>45.355541</td>\n",
       "      <td>77.469130</td>\n",
       "      <td>-10.883196</td>\n",
       "      <td>18.067204</td>\n",
       "      <td>3.721862</td>\n",
       "      <td>0.980952</td>\n",
       "    </tr>\n",
       "    <tr>\n",
       "      <th>4</th>\n",
       "      <td>30.419936</td>\n",
       "      <td>51.284138</td>\n",
       "      <td>23.361324</td>\n",
       "      <td>10.390302</td>\n",
       "      <td>-0.723471</td>\n",
       "      <td>0.850541</td>\n",
       "    </tr>\n",
       "    <tr>\n",
       "      <th>5</th>\n",
       "      <td>22.028759</td>\n",
       "      <td>45.963734</td>\n",
       "      <td>11.372415</td>\n",
       "      <td>10.177206</td>\n",
       "      <td>-0.739538</td>\n",
       "      <td>0.137674</td>\n",
       "    </tr>\n",
       "  </tbody>\n",
       "</table>\n",
       "</div>"
      ],
      "text/plain": [
       "           y         x1         x2         x3        x4        x5\n",
       "1  -0.051423  21.456917  -7.042114   1.073317  3.901826  0.584972\n",
       "2  40.420287  90.051574   1.753339  15.469912 -2.395206  0.781003\n",
       "3  45.355541  77.469130 -10.883196  18.067204  3.721862  0.980952\n",
       "4  30.419936  51.284138  23.361324  10.390302 -0.723471  0.850541\n",
       "5  22.028759  45.963734  11.372415  10.177206 -0.739538  0.137674"
      ]
     },
     "execution_count": 18,
     "metadata": {},
     "output_type": "execute_result"
    }
   ],
   "source": [
    "url = \"/Users/bhagwatsinghbisht/Downloads/H32.csv\"\n",
    "f=urllib.urlopen(url)\n",
    "data= pd.read_csv(f,index_col=0)\n",
    "data.head()"
   ]
  },
  {
   "cell_type": "code",
   "execution_count": 26,
   "metadata": {
    "collapsed": false,
    "scrolled": true
   },
   "outputs": [
    {
     "name": "stdout",
     "output_type": "stream",
     "text": [
      "the least squared multisquared variate regression coefficients are :\n",
      "the value of intercept is [[-0.22510449]]\n",
      "the value of coefficient is X1 [[ 0.00080369]]\n",
      "the value of coefficient is X2 [[-0.02079314]]\n",
      "the value of coefficient is X3 [[ 2.01030535]]\n",
      "the value of coefficient is X4 [[-1.00586732]]\n",
      "the value of coefficient is X5 [[ 10.40067069]]\n"
     ]
    }
   ],
   "source": [
    "X=np.matrix(pd.DataFrame({'intercept':[1]*len(data.x1),'x1':data.x1,'x2':data.x2,'x3':data.x3,'x4':data.x4,'x5':data.x5}))\n",
    "Y=np.matrix(data.y).transpose()\n",
    "w=pow((X.transpose()*X),-1)*X.transpose()*Y   \n",
    "c=X.transpose()*X\n",
    "print 'the least squared multisquared variate regression coefficients are :'\n",
    "print 'the value of intercept is', w[0]\n",
    "print 'the value of coefficient is X1', w[1]\n",
    "print 'the value of coefficient is X2', w[2]\n",
    "print 'the value of coefficient is X3', w[3]\n",
    "print 'the value of coefficient is X4', w[4]\n",
    "print 'the value of coefficient is X5', w[5]"
   ]
  },
  {
   "cell_type": "markdown",
   "metadata": {},
   "source": [
    "\n",
    "Problem 3 (15% of credit)\n",
    "Prove that regressors x1,x2,x3 are mutually ortogonal. Perform an estimate for regression coefficients using uni-variate regressions formulas. Compare with the results of problem 2."
   ]
  },
  {
   "cell_type": "code",
   "execution_count": 39,
   "metadata": {
    "collapsed": false
   },
   "outputs": [
    {
     "name": "stdout",
     "output_type": "stream",
     "text": [
      "[[ True  True  True]\n",
      " [ True  True  True]\n",
      " [ True  True  True]]\n"
     ]
    }
   ],
   "source": [
    "X=np.matrix(data)\n",
    "cov=(X[:,1:4]).transpose()*(X[:,1:4])/100\n",
    "print(cov>1e-10)\n"
   ]
  },
  {
   "cell_type": "markdown",
   "metadata": {},
   "source": [
    "Problem 4 (5% credit) Suppose that a multiple regression with 7 regressors gave the following p-values for each of them: 0.01, 1e-15, 0.1, 0.04, 0.001, 0.06, 0.03 How many regressors you would exclude based on that? Please explain."
   ]
  },
  {
   "cell_type": "markdown",
   "metadata": {},
   "source": [
    "# Solution : To decrease the noise , generally the regressor having the high p value>0.05 are removed , so the regressor having p value .06 can be excluded."
   ]
  },
  {
   "cell_type": "code",
   "execution_count": 27,
   "metadata": {
    "collapsed": true
   },
   "outputs": [],
   "source": [
    "validation=data[70:99]\n",
    "data=data[0:69]\n"
   ]
  },
  {
   "cell_type": "code",
   "execution_count": 28,
   "metadata": {
    "collapsed": false
   },
   "outputs": [
    {
     "name": "stdout",
     "output_type": "stream",
     "text": [
      "[[ -7.03252793e-01]\n",
      " [ -6.12844576e-03]\n",
      " [ -2.53338192e-02]\n",
      " [  2.03376041e+00]\n",
      " [ -1.10722220e+00]\n",
      " [  1.09161468e+01]]\n"
     ]
    }
   ],
   "source": [
    "X=np.matrix(pd.DataFrame({'intercept':[1]*len(data.x1),'x1':data.x1,'x2':data.x2,'x3':data.x3,'x4':data.x4,'x5':data.x5}))\n",
    "Y=np.matrix(data.y).transpose()\n",
    "w=pow((X.transpose()*X),-1)*X.transpose()*Y\n",
    "print(w)"
   ]
  },
  {
   "cell_type": "markdown",
   "metadata": {},
   "source": [
    "Problem 6 (20% credit) Perform a multivariate regression of y over x1,x2,x3,x4,x5 (with an intercept) using the observations from: : https://serv.cusp.nyu.edu/files/ADS-2015/MorningSection/homework3/H32.csv"
   ]
  },
  {
   "cell_type": "code",
   "execution_count": 31,
   "metadata": {
    "collapsed": false
   },
   "outputs": [
    {
     "data": {
      "text/html": [
       "<table class=\"simpletable\">\n",
       "<caption>OLS Regression Results</caption>\n",
       "<tr>\n",
       "  <th>Dep. Variable:</th>            <td>y</td>        <th>  R-squared:         </th> <td>   0.967</td>\n",
       "</tr>\n",
       "<tr>\n",
       "  <th>Model:</th>                   <td>OLS</td>       <th>  Adj. R-squared:    </th> <td>   0.964</td>\n",
       "</tr>\n",
       "<tr>\n",
       "  <th>Method:</th>             <td>Least Squares</td>  <th>  F-statistic:       </th> <td>   367.0</td>\n",
       "</tr>\n",
       "<tr>\n",
       "  <th>Date:</th>             <td>Sun, 04 Oct 2015</td> <th>  Prob (F-statistic):</th> <td>3.47e-45</td>\n",
       "</tr>\n",
       "<tr>\n",
       "  <th>Time:</th>                 <td>20:27:38</td>     <th>  Log-Likelihood:    </th> <td> -155.87</td>\n",
       "</tr>\n",
       "<tr>\n",
       "  <th>No. Observations:</th>      <td>    69</td>      <th>  AIC:               </th> <td>   323.7</td>\n",
       "</tr>\n",
       "<tr>\n",
       "  <th>Df Residuals:</th>          <td>    63</td>      <th>  BIC:               </th> <td>   337.2</td>\n",
       "</tr>\n",
       "<tr>\n",
       "  <th>Df Model:</th>              <td>     5</td>      <th>                     </th>     <td> </td>   \n",
       "</tr>\n",
       "<tr>\n",
       "  <th>Covariance Type:</th>      <td>nonrobust</td>    <th>                     </th>     <td> </td>   \n",
       "</tr>\n",
       "</table>\n",
       "<table class=\"simpletable\">\n",
       "<tr>\n",
       "      <td></td>         <th>coef</th>     <th>std err</th>      <th>t</th>      <th>P>|t|</th> <th>[95.0% Conf. Int.]</th> \n",
       "</tr>\n",
       "<tr>\n",
       "  <th>Intercept</th> <td>   -0.7033</td> <td>    0.802</td> <td>   -0.877</td> <td> 0.384</td> <td>   -2.305     0.899</td>\n",
       "</tr>\n",
       "<tr>\n",
       "  <th>x1</th>        <td>   -0.0061</td> <td>    0.011</td> <td>   -0.567</td> <td> 0.573</td> <td>   -0.028     0.015</td>\n",
       "</tr>\n",
       "<tr>\n",
       "  <th>x2</th>        <td>   -0.0253</td> <td>    0.021</td> <td>   -1.181</td> <td> 0.242</td> <td>   -0.068     0.018</td>\n",
       "</tr>\n",
       "<tr>\n",
       "  <th>x3</th>        <td>    2.0338</td> <td>    0.056</td> <td>   36.250</td> <td> 0.000</td> <td>    1.922     2.146</td>\n",
       "</tr>\n",
       "<tr>\n",
       "  <th>x4</th>        <td>   -1.1072</td> <td>    0.116</td> <td>   -9.510</td> <td> 0.000</td> <td>   -1.340    -0.875</td>\n",
       "</tr>\n",
       "<tr>\n",
       "  <th>x5</th>        <td>   10.9161</td> <td>    1.056</td> <td>   10.334</td> <td> 0.000</td> <td>    8.805    13.027</td>\n",
       "</tr>\n",
       "</table>\n",
       "<table class=\"simpletable\">\n",
       "<tr>\n",
       "  <th>Omnibus:</th>       <td>14.477</td> <th>  Durbin-Watson:     </th> <td>   2.053</td>\n",
       "</tr>\n",
       "<tr>\n",
       "  <th>Prob(Omnibus):</th> <td> 0.001</td> <th>  Jarque-Bera (JB):  </th> <td>  16.914</td>\n",
       "</tr>\n",
       "<tr>\n",
       "  <th>Skew:</th>          <td> 0.958</td> <th>  Prob(JB):          </th> <td>0.000212</td>\n",
       "</tr>\n",
       "<tr>\n",
       "  <th>Kurtosis:</th>      <td> 4.488</td> <th>  Cond. No.          </th> <td>    232.</td>\n",
       "</tr>\n",
       "</table>"
      ],
      "text/plain": [
       "<class 'statsmodels.iolib.summary.Summary'>\n",
       "\"\"\"\n",
       "                            OLS Regression Results                            \n",
       "==============================================================================\n",
       "Dep. Variable:                      y   R-squared:                       0.967\n",
       "Model:                            OLS   Adj. R-squared:                  0.964\n",
       "Method:                 Least Squares   F-statistic:                     367.0\n",
       "Date:                Sun, 04 Oct 2015   Prob (F-statistic):           3.47e-45\n",
       "Time:                        20:27:38   Log-Likelihood:                -155.87\n",
       "No. Observations:                  69   AIC:                             323.7\n",
       "Df Residuals:                      63   BIC:                             337.2\n",
       "Df Model:                           5                                         \n",
       "Covariance Type:            nonrobust                                         \n",
       "==============================================================================\n",
       "                 coef    std err          t      P>|t|      [95.0% Conf. Int.]\n",
       "------------------------------------------------------------------------------\n",
       "Intercept     -0.7033      0.802     -0.877      0.384        -2.305     0.899\n",
       "x1            -0.0061      0.011     -0.567      0.573        -0.028     0.015\n",
       "x2            -0.0253      0.021     -1.181      0.242        -0.068     0.018\n",
       "x3             2.0338      0.056     36.250      0.000         1.922     2.146\n",
       "x4            -1.1072      0.116     -9.510      0.000        -1.340    -0.875\n",
       "x5            10.9161      1.056     10.334      0.000         8.805    13.027\n",
       "==============================================================================\n",
       "Omnibus:                       14.477   Durbin-Watson:                   2.053\n",
       "Prob(Omnibus):                  0.001   Jarque-Bera (JB):               16.914\n",
       "Skew:                           0.958   Prob(JB):                     0.000212\n",
       "Kurtosis:                       4.488   Cond. No.                         232.\n",
       "==============================================================================\n",
       "\n",
       "Warnings:\n",
       "[1] Standard Errors assume that the covariance matrix of the errors is correctly specified.\n",
       "\"\"\""
      ]
     },
     "execution_count": 31,
     "metadata": {},
     "output_type": "execute_result"
    },
    {
     "data": {
      "image/png": "[encoded data removed]",
      "text/plain": [
       "<matplotlib.figure.Figure at 0x10bcd1850>"
      ]
     },
     "metadata": {},
     "output_type": "display_data"
    }
   ],
   "source": [
    "lmy = lm.predict(data)\n",
    "plt.plot(lmy,data.y,'or')\n",
    "plt.plot(lmy,lmy,'-b')\n",
    "lm = smf.ols(formula='y ~ x1+x2+x3+x4+x5', data = data).fit()\n",
    "\n",
    "lm.summary()\n",
    "\n"
   ]
  },
  {
   "cell_type": "markdown",
   "metadata": {},
   "source": [
    "Problem 7 (20% credit) Perform the same regression as from the problem 5 but after standardization of the regressors. Report the regressor having the highest impact on the responce variable."
   ]
  },
  {
   "cell_type": "code",
   "execution_count": 32,
   "metadata": {
    "collapsed": false
   },
   "outputs": [
    {
     "data": {
      "text/html": [
       "<table class=\"simpletable\">\n",
       "<caption>OLS Regression Results</caption>\n",
       "<tr>\n",
       "  <th>Dep. Variable:</th>            <td>y</td>        <th>  R-squared:         </th> <td>   0.969</td>\n",
       "</tr>\n",
       "<tr>\n",
       "  <th>Model:</th>                   <td>OLS</td>       <th>  Adj. R-squared:    </th> <td>   0.967</td>\n",
       "</tr>\n",
       "<tr>\n",
       "  <th>Method:</th>             <td>Least Squares</td>  <th>  F-statistic:       </th> <td>   581.7</td>\n",
       "</tr>\n",
       "<tr>\n",
       "  <th>Date:</th>             <td>Sun, 04 Oct 2015</td> <th>  Prob (F-statistic):</th> <td>4.76e-69</td>\n",
       "</tr>\n",
       "<tr>\n",
       "  <th>Time:</th>                 <td>20:28:16</td>     <th>  Log-Likelihood:    </th> <td> -220.81</td>\n",
       "</tr>\n",
       "<tr>\n",
       "  <th>No. Observations:</th>      <td>   100</td>      <th>  AIC:               </th> <td>   453.6</td>\n",
       "</tr>\n",
       "<tr>\n",
       "  <th>Df Residuals:</th>          <td>    94</td>      <th>  BIC:               </th> <td>   469.3</td>\n",
       "</tr>\n",
       "<tr>\n",
       "  <th>Df Model:</th>              <td>     5</td>      <th>                     </th>     <td> </td>   \n",
       "</tr>\n",
       "<tr>\n",
       "  <th>Covariance Type:</th>      <td>nonrobust</td>    <th>                     </th>     <td> </td>   \n",
       "</tr>\n",
       "</table>\n",
       "<table class=\"simpletable\">\n",
       "<tr>\n",
       "      <td></td>         <th>coef</th>     <th>std err</th>      <th>t</th>      <th>P>|t|</th> <th>[95.0% Conf. Int.]</th> \n",
       "</tr>\n",
       "<tr>\n",
       "  <th>Intercept</th> <td>   23.8651</td> <td>    0.227</td> <td>  105.095</td> <td> 0.000</td> <td>   23.414    24.316</td>\n",
       "</tr>\n",
       "<tr>\n",
       "  <th>x1</th>        <td>    0.0231</td> <td>    0.236</td> <td>    0.098</td> <td> 0.922</td> <td>   -0.445     0.491</td>\n",
       "</tr>\n",
       "<tr>\n",
       "  <th>x2</th>        <td>   -0.3145</td> <td>    0.237</td> <td>   -1.329</td> <td> 0.187</td> <td>   -0.784     0.155</td>\n",
       "</tr>\n",
       "<tr>\n",
       "  <th>x3</th>        <td>   11.0882</td> <td>    0.240</td> <td>   46.266</td> <td> 0.000</td> <td>   10.612    11.564</td>\n",
       "</tr>\n",
       "<tr>\n",
       "  <th>x4</th>        <td>   -2.7646</td> <td>    0.238</td> <td>  -11.600</td> <td> 0.000</td> <td>   -3.238    -2.291</td>\n",
       "</tr>\n",
       "<tr>\n",
       "  <th>x5</th>        <td>    3.0308</td> <td>    0.232</td> <td>   13.070</td> <td> 0.000</td> <td>    2.570     3.491</td>\n",
       "</tr>\n",
       "</table>\n",
       "<table class=\"simpletable\">\n",
       "<tr>\n",
       "  <th>Omnibus:</th>       <td> 7.114</td> <th>  Durbin-Watson:     </th> <td>   2.134</td>\n",
       "</tr>\n",
       "<tr>\n",
       "  <th>Prob(Omnibus):</th> <td> 0.029</td> <th>  Jarque-Bera (JB):  </th> <td>   6.748</td>\n",
       "</tr>\n",
       "<tr>\n",
       "  <th>Skew:</th>          <td> 0.521</td> <th>  Prob(JB):          </th> <td>  0.0342</td>\n",
       "</tr>\n",
       "<tr>\n",
       "  <th>Kurtosis:</th>      <td> 3.732</td> <th>  Cond. No.          </th> <td>    1.48</td>\n",
       "</tr>\n",
       "</table>"
      ],
      "text/plain": [
       "<class 'statsmodels.iolib.summary.Summary'>\n",
       "\"\"\"\n",
       "                            OLS Regression Results                            \n",
       "==============================================================================\n",
       "Dep. Variable:                      y   R-squared:                       0.969\n",
       "Model:                            OLS   Adj. R-squared:                  0.967\n",
       "Method:                 Least Squares   F-statistic:                     581.7\n",
       "Date:                Sun, 04 Oct 2015   Prob (F-statistic):           4.76e-69\n",
       "Time:                        20:28:16   Log-Likelihood:                -220.81\n",
       "No. Observations:                 100   AIC:                             453.6\n",
       "Df Residuals:                      94   BIC:                             469.3\n",
       "Df Model:                           5                                         \n",
       "Covariance Type:            nonrobust                                         \n",
       "==============================================================================\n",
       "                 coef    std err          t      P>|t|      [95.0% Conf. Int.]\n",
       "------------------------------------------------------------------------------\n",
       "Intercept     23.8651      0.227    105.095      0.000        23.414    24.316\n",
       "x1             0.0231      0.236      0.098      0.922        -0.445     0.491\n",
       "x2            -0.3145      0.237     -1.329      0.187        -0.784     0.155\n",
       "x3            11.0882      0.240     46.266      0.000        10.612    11.564\n",
       "x4            -2.7646      0.238    -11.600      0.000        -3.238    -2.291\n",
       "x5             3.0308      0.232     13.070      0.000         2.570     3.491\n",
       "==============================================================================\n",
       "Omnibus:                        7.114   Durbin-Watson:                   2.134\n",
       "Prob(Omnibus):                  0.029   Jarque-Bera (JB):                6.748\n",
       "Skew:                           0.521   Prob(JB):                       0.0342\n",
       "Kurtosis:                       3.732   Cond. No.                         1.48\n",
       "==============================================================================\n",
       "\n",
       "Warnings:\n",
       "[1] Standard Errors assume that the covariance matrix of the errors is correctly specified.\n",
       "\"\"\""
      ]
     },
     "execution_count": 32,
     "metadata": {},
     "output_type": "execute_result"
    },
    {
     "data": {
      "image/png": "[encoded data removed]",
      "text/plain": [
       "<matplotlib.figure.Figure at 0x10bdecf50>"
      ]
     },
     "metadata": {},
     "output_type": "display_data"
    }
   ],
   "source": [
    "####standardising the values \n",
    "\n",
    "url='/Users/bhagwatsinghbisht/Downloads/H32.csv'\n",
    "f = urllib.urlopen(url)\n",
    "data = pd.read_csv(f , index_col=0 )\n",
    "data.x1=(data.x1-mean(data.x1))/std(data.x1)\n",
    "data.x2=(data.x2-mean(data.x2))/std(data.x2)\n",
    "data.x3=(data.x3-mean(data.x3))/std(data.x3)\n",
    "data.x4=(data.x4-mean(data.x4))/std(data.x4)\n",
    "data.x5=(data.x5-mean(data.x5))/std(data.x5)\n",
    "lm = smf.ols(formula='y ~ x1 + x2 + x3 + x4 + x5 ', data = data).fit()\n",
    "lmy = lm.predict(data)\n",
    "plt.plot(lmy,data.y,'or')\n",
    "plt.plot(lmy,lmy,'-b') \n",
    "lm.summary()"
   ]
  },
  {
   "cell_type": "markdown",
   "metadata": {},
   "source": [
    "# Observation : After removing the variable X3 , the R square value drops to 22.4% which means the model is only 23% correct. Hence X3 is regressor having the highest impact on the response variable"
   ]
  },
  {
   "cell_type": "markdown",
   "metadata": {},
   "source": [
    "\n",
    "Problem 8 (20% credit) Analyzing regression statistics from problem 6 exclude the regressors with insignificant impact. Repeat the regression over the remaining regressors only and report the statistics."
   ]
  },
  {
   "cell_type": "markdown",
   "metadata": {},
   "source": [
    "Solution:"
   ]
  },
  {
   "cell_type": "code",
   "execution_count": 33,
   "metadata": {
    "collapsed": false
   },
   "outputs": [
    {
     "data": {
      "text/html": [
       "<table class=\"simpletable\">\n",
       "<caption>OLS Regression Results</caption>\n",
       "<tr>\n",
       "  <th>Dep. Variable:</th>            <td>y</td>        <th>  R-squared:         </th> <td>   0.969</td>\n",
       "</tr>\n",
       "<tr>\n",
       "  <th>Model:</th>                   <td>OLS</td>       <th>  Adj. R-squared:    </th> <td>   0.967</td>\n",
       "</tr>\n",
       "<tr>\n",
       "  <th>Method:</th>             <td>Least Squares</td>  <th>  F-statistic:       </th> <td>   581.7</td>\n",
       "</tr>\n",
       "<tr>\n",
       "  <th>Date:</th>             <td>Sun, 04 Oct 2015</td> <th>  Prob (F-statistic):</th> <td>4.76e-69</td>\n",
       "</tr>\n",
       "<tr>\n",
       "  <th>Time:</th>                 <td>20:29:42</td>     <th>  Log-Likelihood:    </th> <td> -220.81</td>\n",
       "</tr>\n",
       "<tr>\n",
       "  <th>No. Observations:</th>      <td>   100</td>      <th>  AIC:               </th> <td>   453.6</td>\n",
       "</tr>\n",
       "<tr>\n",
       "  <th>Df Residuals:</th>          <td>    94</td>      <th>  BIC:               </th> <td>   469.3</td>\n",
       "</tr>\n",
       "<tr>\n",
       "  <th>Df Model:</th>              <td>     5</td>      <th>                     </th>     <td> </td>   \n",
       "</tr>\n",
       "<tr>\n",
       "  <th>Covariance Type:</th>      <td>nonrobust</td>    <th>                     </th>     <td> </td>   \n",
       "</tr>\n",
       "</table>\n",
       "<table class=\"simpletable\">\n",
       "<tr>\n",
       "      <td></td>         <th>coef</th>     <th>std err</th>      <th>t</th>      <th>P>|t|</th> <th>[95.0% Conf. Int.]</th> \n",
       "</tr>\n",
       "<tr>\n",
       "  <th>Intercept</th> <td>   -0.2251</td> <td>    0.648</td> <td>   -0.347</td> <td> 0.729</td> <td>   -1.513     1.062</td>\n",
       "</tr>\n",
       "<tr>\n",
       "  <th>x1</th>        <td>    0.0008</td> <td>    0.008</td> <td>    0.098</td> <td> 0.922</td> <td>   -0.015     0.017</td>\n",
       "</tr>\n",
       "<tr>\n",
       "  <th>x2</th>        <td>   -0.0208</td> <td>    0.016</td> <td>   -1.329</td> <td> 0.187</td> <td>   -0.052     0.010</td>\n",
       "</tr>\n",
       "<tr>\n",
       "  <th>x4</th>        <td>   -1.0059</td> <td>    0.087</td> <td>  -11.600</td> <td> 0.000</td> <td>   -1.178    -0.834</td>\n",
       "</tr>\n",
       "<tr>\n",
       "  <th>x3</th>        <td>    2.0103</td> <td>    0.043</td> <td>   46.266</td> <td> 0.000</td> <td>    1.924     2.097</td>\n",
       "</tr>\n",
       "<tr>\n",
       "  <th>x5</th>        <td>   10.4007</td> <td>    0.796</td> <td>   13.070</td> <td> 0.000</td> <td>    8.821    11.981</td>\n",
       "</tr>\n",
       "</table>\n",
       "<table class=\"simpletable\">\n",
       "<tr>\n",
       "  <th>Omnibus:</th>       <td> 7.114</td> <th>  Durbin-Watson:     </th> <td>   2.134</td>\n",
       "</tr>\n",
       "<tr>\n",
       "  <th>Prob(Omnibus):</th> <td> 0.029</td> <th>  Jarque-Bera (JB):  </th> <td>   6.748</td>\n",
       "</tr>\n",
       "<tr>\n",
       "  <th>Skew:</th>          <td> 0.521</td> <th>  Prob(JB):          </th> <td>  0.0342</td>\n",
       "</tr>\n",
       "<tr>\n",
       "  <th>Kurtosis:</th>      <td> 3.732</td> <th>  Cond. No.          </th> <td>    239.</td>\n",
       "</tr>\n",
       "</table>"
      ],
      "text/plain": [
       "<class 'statsmodels.iolib.summary.Summary'>\n",
       "\"\"\"\n",
       "                            OLS Regression Results                            \n",
       "==============================================================================\n",
       "Dep. Variable:                      y   R-squared:                       0.969\n",
       "Model:                            OLS   Adj. R-squared:                  0.967\n",
       "Method:                 Least Squares   F-statistic:                     581.7\n",
       "Date:                Sun, 04 Oct 2015   Prob (F-statistic):           4.76e-69\n",
       "Time:                        20:29:42   Log-Likelihood:                -220.81\n",
       "No. Observations:                 100   AIC:                             453.6\n",
       "Df Residuals:                      94   BIC:                             469.3\n",
       "Df Model:                           5                                         \n",
       "Covariance Type:            nonrobust                                         \n",
       "==============================================================================\n",
       "                 coef    std err          t      P>|t|      [95.0% Conf. Int.]\n",
       "------------------------------------------------------------------------------\n",
       "Intercept     -0.2251      0.648     -0.347      0.729        -1.513     1.062\n",
       "x1             0.0008      0.008      0.098      0.922        -0.015     0.017\n",
       "x2            -0.0208      0.016     -1.329      0.187        -0.052     0.010\n",
       "x4            -1.0059      0.087    -11.600      0.000        -1.178    -0.834\n",
       "x3             2.0103      0.043     46.266      0.000         1.924     2.097\n",
       "x5            10.4007      0.796     13.070      0.000         8.821    11.981\n",
       "==============================================================================\n",
       "Omnibus:                        7.114   Durbin-Watson:                   2.134\n",
       "Prob(Omnibus):                  0.029   Jarque-Bera (JB):                6.748\n",
       "Skew:                           0.521   Prob(JB):                       0.0342\n",
       "Kurtosis:                       3.732   Cond. No.                         239.\n",
       "==============================================================================\n",
       "\n",
       "Warnings:\n",
       "[1] Standard Errors assume that the covariance matrix of the errors is correctly specified.\n",
       "\"\"\""
      ]
     },
     "execution_count": 33,
     "metadata": {},
     "output_type": "execute_result"
    }
   ],
   "source": [
    "url = '/Users/bhagwatsinghbisht/Downloads/H32.csv'\n",
    "f = urllib.urlopen(url)\n",
    "data = pd.read_csv(f,index_col=0)\n",
    "###getting regression result for all the regressors  .\n",
    "lm = smf.ols(formula='y ~ x1+x2+x4+x3+x5', data = data).fit()\n",
    "lm.summary()"
   ]
  },
  {
   "cell_type": "markdown",
   "metadata": {},
   "source": [
    "# from the above observation it is clear that the regressor X1 and X2 with p value .922 and .187 are eligible for exclusion , also the confidence interval is a bit different .\n"
   ]
  },
  {
   "cell_type": "markdown",
   "metadata": {},
   "source": [
    "# after exclusion of the values with higher p value"
   ]
  },
  {
   "cell_type": "markdown",
   "metadata": {},
   "source": [
    "# we notice that the R square value has not changed much, hence the regressor X1 and X2 were not significant and were correct to removed for better analysis . The R square value stil is 96.8 , this may be due to corelation etc, removing any other value is significantly impacting the R square value ."
   ]
  },
  {
   "cell_type": "markdown",
   "metadata": {},
   "source": [
    "it is shown as below : "
   ]
  },
  {
   "cell_type": "code",
   "execution_count": 34,
   "metadata": {
    "collapsed": false
   },
   "outputs": [
    {
     "data": {
      "text/html": [
       "<table class=\"simpletable\">\n",
       "<caption>OLS Regression Results</caption>\n",
       "<tr>\n",
       "  <th>Dep. Variable:</th>            <td>y</td>        <th>  R-squared:         </th> <td>   0.968</td>\n",
       "</tr>\n",
       "<tr>\n",
       "  <th>Model:</th>                   <td>OLS</td>       <th>  Adj. R-squared:    </th> <td>   0.967</td>\n",
       "</tr>\n",
       "<tr>\n",
       "  <th>Method:</th>             <td>Least Squares</td>  <th>  F-statistic:       </th> <td>   970.7</td>\n",
       "</tr>\n",
       "<tr>\n",
       "  <th>Date:</th>             <td>Sun, 04 Oct 2015</td> <th>  Prob (F-statistic):</th> <td>1.20e-71</td>\n",
       "</tr>\n",
       "<tr>\n",
       "  <th>Time:</th>                 <td>20:32:26</td>     <th>  Log-Likelihood:    </th> <td> -221.77</td>\n",
       "</tr>\n",
       "<tr>\n",
       "  <th>No. Observations:</th>      <td>   100</td>      <th>  AIC:               </th> <td>   451.5</td>\n",
       "</tr>\n",
       "<tr>\n",
       "  <th>Df Residuals:</th>          <td>    96</td>      <th>  BIC:               </th> <td>   462.0</td>\n",
       "</tr>\n",
       "<tr>\n",
       "  <th>Df Model:</th>              <td>     3</td>      <th>                     </th>     <td> </td>   \n",
       "</tr>\n",
       "<tr>\n",
       "  <th>Covariance Type:</th>      <td>nonrobust</td>    <th>                     </th>     <td> </td>   \n",
       "</tr>\n",
       "</table>\n",
       "<table class=\"simpletable\">\n",
       "<tr>\n",
       "      <td></td>         <th>coef</th>     <th>std err</th>      <th>t</th>      <th>P>|t|</th> <th>[95.0% Conf. Int.]</th> \n",
       "</tr>\n",
       "<tr>\n",
       "  <th>Intercept</th> <td>   -0.1232</td> <td>    0.559</td> <td>   -0.220</td> <td> 0.826</td> <td>   -1.233     0.987</td>\n",
       "</tr>\n",
       "<tr>\n",
       "  <th>x4</th>        <td>   -0.9873</td> <td>    0.084</td> <td>  -11.698</td> <td> 0.000</td> <td>   -1.155    -0.820</td>\n",
       "</tr>\n",
       "<tr>\n",
       "  <th>x3</th>        <td>    2.0008</td> <td>    0.042</td> <td>   47.924</td> <td> 0.000</td> <td>    1.918     2.084</td>\n",
       "</tr>\n",
       "<tr>\n",
       "  <th>x5</th>        <td>   10.4450</td> <td>    0.794</td> <td>   13.162</td> <td> 0.000</td> <td>    8.870    12.020</td>\n",
       "</tr>\n",
       "</table>\n",
       "<table class=\"simpletable\">\n",
       "<tr>\n",
       "  <th>Omnibus:</th>       <td> 7.149</td> <th>  Durbin-Watson:     </th> <td>   2.193</td>\n",
       "</tr>\n",
       "<tr>\n",
       "  <th>Prob(Omnibus):</th> <td> 0.028</td> <th>  Jarque-Bera (JB):  </th> <td>   6.872</td>\n",
       "</tr>\n",
       "<tr>\n",
       "  <th>Skew:</th>          <td> 0.510</td> <th>  Prob(JB):          </th> <td>  0.0322</td>\n",
       "</tr>\n",
       "<tr>\n",
       "  <th>Kurtosis:</th>      <td> 3.780</td> <th>  Cond. No.          </th> <td>    42.3</td>\n",
       "</tr>\n",
       "</table>"
      ],
      "text/plain": [
       "<class 'statsmodels.iolib.summary.Summary'>\n",
       "\"\"\"\n",
       "                            OLS Regression Results                            \n",
       "==============================================================================\n",
       "Dep. Variable:                      y   R-squared:                       0.968\n",
       "Model:                            OLS   Adj. R-squared:                  0.967\n",
       "Method:                 Least Squares   F-statistic:                     970.7\n",
       "Date:                Sun, 04 Oct 2015   Prob (F-statistic):           1.20e-71\n",
       "Time:                        20:32:26   Log-Likelihood:                -221.77\n",
       "No. Observations:                 100   AIC:                             451.5\n",
       "Df Residuals:                      96   BIC:                             462.0\n",
       "Df Model:                           3                                         \n",
       "Covariance Type:            nonrobust                                         \n",
       "==============================================================================\n",
       "                 coef    std err          t      P>|t|      [95.0% Conf. Int.]\n",
       "------------------------------------------------------------------------------\n",
       "Intercept     -0.1232      0.559     -0.220      0.826        -1.233     0.987\n",
       "x4            -0.9873      0.084    -11.698      0.000        -1.155    -0.820\n",
       "x3             2.0008      0.042     47.924      0.000         1.918     2.084\n",
       "x5            10.4450      0.794     13.162      0.000         8.870    12.020\n",
       "==============================================================================\n",
       "Omnibus:                        7.149   Durbin-Watson:                   2.193\n",
       "Prob(Omnibus):                  0.028   Jarque-Bera (JB):                6.872\n",
       "Skew:                           0.510   Prob(JB):                       0.0322\n",
       "Kurtosis:                       3.780   Cond. No.                         42.3\n",
       "==============================================================================\n",
       "\n",
       "Warnings:\n",
       "[1] Standard Errors assume that the covariance matrix of the errors is correctly specified.\n",
       "\"\"\""
      ]
     },
     "execution_count": 34,
     "metadata": {},
     "output_type": "execute_result"
    }
   ],
   "source": [
    "lm = smf.ols(formula='y ~ x4+x3+x5', data = data).fit()\n",
    "lm.summary()"
   ]
  },
  {
   "cell_type": "markdown",
   "metadata": {},
   "source": [
    "# The value of R square is not impacted in anyway after removing x1 and x2 so they are not significant."
   ]
  },
  {
   "cell_type": "code",
   "execution_count": null,
   "metadata": {
    "collapsed": true
   },
   "outputs": [],
   "source": []
  }
 ],
 "metadata": {
  "kernelspec": {
   "display_name": "Python 2",
   "language": "python",
   "name": "python2"
  },
  "language_info": {
   "codemirror_mode": {
    "name": "ipython",
    "version": 2
   },
   "file_extension": ".py",
   "mimetype": "text/x-python",
   "name": "python",
   "nbconvert_exporter": "python",
   "pygments_lexer": "ipython2",
   "version": "2.7.10"
  }
 },
 "nbformat": 4,
 "nbformat_minor": 0
}
